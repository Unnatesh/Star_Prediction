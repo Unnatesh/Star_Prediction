{
 "cells": [
  {
   "cell_type": "markdown",
   "metadata": {},
   "source": [
    "# 🌟 Introduction\n",
    "\n",
    "Dataset used in this notebook aims to classificate stars, galaxies, and quasars based on their spectral characteristics. Support Vector Machine (SVM) and Random Forest algorithms are used for classification purposes in this notebook. The dataset is an imbalanced dataset. For this reason, Synthetic Minority Oversampling Technique (SMOTE) is used to eliminate the imbalance between classes. Outlier values are detected with the Local Outlier Factor and these values are removed from the dataset. In the 16-dimensional data set, the correlations of the features with the class label are checked and the features with a correlation greater than 0.16 are used for classification. In addition, the seaborn library and the yellow brick library are used for data visualization."
   ]
  },
  {
   "cell_type": "markdown",
   "metadata": {},
   "source": [
    "<img src=\"https://media2.giphy.com/media/OYfQ5c7FPeBxe/giphy.gif\">"
   ]
  },
  {
   "cell_type": "markdown",
   "metadata": {},
   "source": [
    "### 💫 Content\n",
    "\n",
    "1. [Load and Check Data](#1)\n",
    "1. [Detect Outliers](#2)\n",
    "1. [Feature Selection](#3)\n",
    "1. [Dealing with Imbalanced Data](#4)\n",
    "1. [Data Scaling](#5)\n",
    "1. [Import Libraries](#6)\n",
    "1. [Train / Test Split](#7)\n",
    "1. [Classifiers](#8)\n",
    "    * [SVM Classifier](#9)\n",
    "        * [Confusion Matrix](#10)\n",
    "        * [Classification Report](#11)\n",
    "        * [ROC Curve](#12)\n",
    "        * [Class Prediction Error](#13)\n",
    "    * [Random Forest Classifier](#14)\n",
    "        * [Confusion Matrix](#15)\n",
    "        * [Classification Report](#16)\n",
    "        * [ROC Curve](#17)\n",
    "        * [Class Prediction Error](#18)"
   ]
  },
  {
   "cell_type": "markdown",
   "metadata": {},
   "source": [
    "<a id='1'></a><br>\n",
    "# Load and Check Data"
   ]
  },
  {
   "cell_type": "code",
   "execution_count": 1,
   "metadata": {
    "execution": {
     "iopub.execute_input": "2022-02-01T12:52:40.631165Z",
     "iopub.status.busy": "2022-02-01T12:52:40.630114Z",
     "iopub.status.idle": "2022-02-01T12:52:40.860688Z",
     "shell.execute_reply": "2022-02-01T12:52:40.859775Z",
     "shell.execute_reply.started": "2022-02-01T12:52:40.631130Z"
    },
    "trusted": true
   },
   "outputs": [],
   "source": [
    "import pandas as pd\n",
    "df= pd.read_csv(r\"C:\\Users\\Unnatesh\\Documents\\Python Scripts\\Star_Prediction\\star_classification.csv\")"
   ]
  },
  {
   "cell_type": "code",
   "execution_count": 2,
   "metadata": {
    "execution": {
     "iopub.execute_input": "2022-02-01T12:52:40.862556Z",
     "iopub.status.busy": "2022-02-01T12:52:40.862021Z",
     "iopub.status.idle": "2022-02-01T12:52:40.884344Z",
     "shell.execute_reply": "2022-02-01T12:52:40.883359Z",
     "shell.execute_reply.started": "2022-02-01T12:52:40.862509Z"
    },
    "trusted": true
   },
   "outputs": [
    {
     "data": {
      "text/html": [
       "<div>\n",
       "<style scoped>\n",
       "    .dataframe tbody tr th:only-of-type {\n",
       "        vertical-align: middle;\n",
       "    }\n",
       "\n",
       "    .dataframe tbody tr th {\n",
       "        vertical-align: top;\n",
       "    }\n",
       "\n",
       "    .dataframe thead th {\n",
       "        text-align: right;\n",
       "    }\n",
       "</style>\n",
       "<table border=\"1\" class=\"dataframe\">\n",
       "  <thead>\n",
       "    <tr style=\"text-align: right;\">\n",
       "      <th></th>\n",
       "      <th>obj_ID</th>\n",
       "      <th>alpha</th>\n",
       "      <th>delta</th>\n",
       "      <th>u</th>\n",
       "      <th>g</th>\n",
       "      <th>r</th>\n",
       "      <th>i</th>\n",
       "      <th>z</th>\n",
       "      <th>run_ID</th>\n",
       "      <th>rerun_ID</th>\n",
       "      <th>cam_col</th>\n",
       "      <th>field_ID</th>\n",
       "      <th>spec_obj_ID</th>\n",
       "      <th>class</th>\n",
       "      <th>redshift</th>\n",
       "      <th>plate</th>\n",
       "      <th>MJD</th>\n",
       "      <th>fiber_ID</th>\n",
       "    </tr>\n",
       "  </thead>\n",
       "  <tbody>\n",
       "    <tr>\n",
       "      <th>0</th>\n",
       "      <td>1.237661e+18</td>\n",
       "      <td>135.689107</td>\n",
       "      <td>32.494632</td>\n",
       "      <td>23.87882</td>\n",
       "      <td>22.27530</td>\n",
       "      <td>20.39501</td>\n",
       "      <td>19.16573</td>\n",
       "      <td>18.79371</td>\n",
       "      <td>3606</td>\n",
       "      <td>301</td>\n",
       "      <td>2</td>\n",
       "      <td>79</td>\n",
       "      <td>6.543777e+18</td>\n",
       "      <td>GALAXY</td>\n",
       "      <td>0.634794</td>\n",
       "      <td>5812</td>\n",
       "      <td>56354</td>\n",
       "      <td>171</td>\n",
       "    </tr>\n",
       "    <tr>\n",
       "      <th>1</th>\n",
       "      <td>1.237665e+18</td>\n",
       "      <td>144.826101</td>\n",
       "      <td>31.274185</td>\n",
       "      <td>24.77759</td>\n",
       "      <td>22.83188</td>\n",
       "      <td>22.58444</td>\n",
       "      <td>21.16812</td>\n",
       "      <td>21.61427</td>\n",
       "      <td>4518</td>\n",
       "      <td>301</td>\n",
       "      <td>5</td>\n",
       "      <td>119</td>\n",
       "      <td>1.176014e+19</td>\n",
       "      <td>GALAXY</td>\n",
       "      <td>0.779136</td>\n",
       "      <td>10445</td>\n",
       "      <td>58158</td>\n",
       "      <td>427</td>\n",
       "    </tr>\n",
       "    <tr>\n",
       "      <th>2</th>\n",
       "      <td>1.237661e+18</td>\n",
       "      <td>142.188790</td>\n",
       "      <td>35.582444</td>\n",
       "      <td>25.26307</td>\n",
       "      <td>22.66389</td>\n",
       "      <td>20.60976</td>\n",
       "      <td>19.34857</td>\n",
       "      <td>18.94827</td>\n",
       "      <td>3606</td>\n",
       "      <td>301</td>\n",
       "      <td>2</td>\n",
       "      <td>120</td>\n",
       "      <td>5.152200e+18</td>\n",
       "      <td>GALAXY</td>\n",
       "      <td>0.644195</td>\n",
       "      <td>4576</td>\n",
       "      <td>55592</td>\n",
       "      <td>299</td>\n",
       "    </tr>\n",
       "    <tr>\n",
       "      <th>3</th>\n",
       "      <td>1.237663e+18</td>\n",
       "      <td>338.741038</td>\n",
       "      <td>-0.402828</td>\n",
       "      <td>22.13682</td>\n",
       "      <td>23.77656</td>\n",
       "      <td>21.61162</td>\n",
       "      <td>20.50454</td>\n",
       "      <td>19.25010</td>\n",
       "      <td>4192</td>\n",
       "      <td>301</td>\n",
       "      <td>3</td>\n",
       "      <td>214</td>\n",
       "      <td>1.030107e+19</td>\n",
       "      <td>GALAXY</td>\n",
       "      <td>0.932346</td>\n",
       "      <td>9149</td>\n",
       "      <td>58039</td>\n",
       "      <td>775</td>\n",
       "    </tr>\n",
       "    <tr>\n",
       "      <th>4</th>\n",
       "      <td>1.237680e+18</td>\n",
       "      <td>345.282593</td>\n",
       "      <td>21.183866</td>\n",
       "      <td>19.43718</td>\n",
       "      <td>17.58028</td>\n",
       "      <td>16.49747</td>\n",
       "      <td>15.97711</td>\n",
       "      <td>15.54461</td>\n",
       "      <td>8102</td>\n",
       "      <td>301</td>\n",
       "      <td>3</td>\n",
       "      <td>137</td>\n",
       "      <td>6.891865e+18</td>\n",
       "      <td>GALAXY</td>\n",
       "      <td>0.116123</td>\n",
       "      <td>6121</td>\n",
       "      <td>56187</td>\n",
       "      <td>842</td>\n",
       "    </tr>\n",
       "  </tbody>\n",
       "</table>\n",
       "</div>"
      ],
      "text/plain": [
       "         obj_ID       alpha      delta         u         g         r  \\\n",
       "0  1.237661e+18  135.689107  32.494632  23.87882  22.27530  20.39501   \n",
       "1  1.237665e+18  144.826101  31.274185  24.77759  22.83188  22.58444   \n",
       "2  1.237661e+18  142.188790  35.582444  25.26307  22.66389  20.60976   \n",
       "3  1.237663e+18  338.741038  -0.402828  22.13682  23.77656  21.61162   \n",
       "4  1.237680e+18  345.282593  21.183866  19.43718  17.58028  16.49747   \n",
       "\n",
       "          i         z  run_ID  rerun_ID  cam_col  field_ID   spec_obj_ID  \\\n",
       "0  19.16573  18.79371    3606       301        2        79  6.543777e+18   \n",
       "1  21.16812  21.61427    4518       301        5       119  1.176014e+19   \n",
       "2  19.34857  18.94827    3606       301        2       120  5.152200e+18   \n",
       "3  20.50454  19.25010    4192       301        3       214  1.030107e+19   \n",
       "4  15.97711  15.54461    8102       301        3       137  6.891865e+18   \n",
       "\n",
       "    class  redshift  plate    MJD  fiber_ID  \n",
       "0  GALAXY  0.634794   5812  56354       171  \n",
       "1  GALAXY  0.779136  10445  58158       427  \n",
       "2  GALAXY  0.644195   4576  55592       299  \n",
       "3  GALAXY  0.932346   9149  58039       775  \n",
       "4  GALAXY  0.116123   6121  56187       842  "
      ]
     },
     "execution_count": 2,
     "metadata": {},
     "output_type": "execute_result"
    }
   ],
   "source": [
    "df.head()"
   ]
  },
  {
   "cell_type": "code",
   "execution_count": 3,
   "metadata": {
    "execution": {
     "iopub.execute_input": "2022-02-01T12:52:40.886451Z",
     "iopub.status.busy": "2022-02-01T12:52:40.885692Z",
     "iopub.status.idle": "2022-02-01T12:52:40.908611Z",
     "shell.execute_reply": "2022-02-01T12:52:40.908048Z",
     "shell.execute_reply.started": "2022-02-01T12:52:40.886417Z"
    },
    "trusted": true
   },
   "outputs": [
    {
     "name": "stdout",
     "output_type": "stream",
     "text": [
      "<class 'pandas.core.frame.DataFrame'>\n",
      "RangeIndex: 100000 entries, 0 to 99999\n",
      "Data columns (total 18 columns):\n",
      " #   Column       Non-Null Count   Dtype  \n",
      "---  ------       --------------   -----  \n",
      " 0   obj_ID       100000 non-null  float64\n",
      " 1   alpha        100000 non-null  float64\n",
      " 2   delta        100000 non-null  float64\n",
      " 3   u            100000 non-null  float64\n",
      " 4   g            100000 non-null  float64\n",
      " 5   r            100000 non-null  float64\n",
      " 6   i            100000 non-null  float64\n",
      " 7   z            100000 non-null  float64\n",
      " 8   run_ID       100000 non-null  int64  \n",
      " 9   rerun_ID     100000 non-null  int64  \n",
      " 10  cam_col      100000 non-null  int64  \n",
      " 11  field_ID     100000 non-null  int64  \n",
      " 12  spec_obj_ID  100000 non-null  float64\n",
      " 13  class        100000 non-null  object \n",
      " 14  redshift     100000 non-null  float64\n",
      " 15  plate        100000 non-null  int64  \n",
      " 16  MJD          100000 non-null  int64  \n",
      " 17  fiber_ID     100000 non-null  int64  \n",
      "dtypes: float64(10), int64(7), object(1)\n",
      "memory usage: 13.7+ MB\n"
     ]
    }
   ],
   "source": [
    "df.info()"
   ]
  },
  {
   "cell_type": "code",
   "execution_count": 4,
   "metadata": {
    "execution": {
     "iopub.execute_input": "2022-02-01T12:52:40.911134Z",
     "iopub.status.busy": "2022-02-01T12:52:40.910633Z",
     "iopub.status.idle": "2022-02-01T12:52:40.924897Z",
     "shell.execute_reply": "2022-02-01T12:52:40.924078Z",
     "shell.execute_reply.started": "2022-02-01T12:52:40.911099Z"
    },
    "trusted": true
   },
   "outputs": [
    {
     "data": {
      "text/plain": [
       "class\n",
       "GALAXY    59445\n",
       "STAR      21594\n",
       "QSO       18961\n",
       "Name: count, dtype: int64"
      ]
     },
     "execution_count": 4,
     "metadata": {},
     "output_type": "execute_result"
    }
   ],
   "source": [
    "df[\"class\"].value_counts()"
   ]
  },
  {
   "cell_type": "code",
   "execution_count": 5,
   "metadata": {
    "execution": {
     "iopub.execute_input": "2022-02-01T12:52:40.926479Z",
     "iopub.status.busy": "2022-02-01T12:52:40.926285Z",
     "iopub.status.idle": "2022-02-01T12:52:40.970574Z",
     "shell.execute_reply": "2022-02-01T12:52:40.969742Z",
     "shell.execute_reply.started": "2022-02-01T12:52:40.926456Z"
    },
    "trusted": true
   },
   "outputs": [],
   "source": [
    "df[\"class\"]=[0 if i == \"GALAXY\" else 1 if i == \"STAR\" else 2 for i in df[\"class\"]]"
   ]
  },
  {
   "cell_type": "code",
   "execution_count": 6,
   "metadata": {},
   "outputs": [],
   "source": [
    "import seaborn as sns\n",
    "import matplotlib.pyplot as plt"
   ]
  },
  {
   "cell_type": "code",
   "execution_count": null,
   "metadata": {
    "execution": {
     "iopub.execute_input": "2022-02-01T12:52:40.972455Z",
     "iopub.status.busy": "2022-02-01T12:52:40.971966Z",
     "iopub.status.idle": "2022-02-01T12:52:41.169146Z",
     "shell.execute_reply": "2022-02-01T12:52:41.168334Z",
     "shell.execute_reply.started": "2022-02-01T12:52:40.972410Z"
    },
    "trusted": true
   },
   "outputs": [],
   "source": [
    "sns.countplot(df[\"class\"])\n",
    "plt.title(\"Class \",fontsize=10)\n",
    "plt.show()"
   ]
  },
  {
   "cell_type": "markdown",
   "metadata": {},
   "source": [
    "<a id='2'></a><br>\n",
    "# Detect Outliers"
   ]
  },
  {
   "cell_type": "code",
   "execution_count": null,
   "metadata": {
    "execution": {
     "iopub.execute_input": "2022-02-01T12:52:41.170629Z",
     "iopub.status.busy": "2022-02-01T12:52:41.170223Z",
     "iopub.status.idle": "2022-02-01T12:52:43.547565Z",
     "shell.execute_reply": "2022-02-01T12:52:43.546486Z",
     "shell.execute_reply.started": "2022-02-01T12:52:41.170542Z"
    },
    "trusted": true
   },
   "outputs": [],
   "source": [
    "from sklearn.neighbors import LocalOutlierFactor\n",
    "clf = LocalOutlierFactor()\n",
    "y_pred = clf.fit_predict(df) "
   ]
  },
  {
   "cell_type": "code",
   "execution_count": null,
   "metadata": {
    "execution": {
     "iopub.execute_input": "2022-02-01T12:52:43.548990Z",
     "iopub.status.busy": "2022-02-01T12:52:43.548756Z",
     "iopub.status.idle": "2022-02-01T12:52:43.563250Z",
     "shell.execute_reply": "2022-02-01T12:52:43.562374Z",
     "shell.execute_reply.started": "2022-02-01T12:52:43.548962Z"
    },
    "trusted": true
   },
   "outputs": [],
   "source": [
    "x_score = clf.negative_outlier_factor_\n",
    "outlier_score = pd.DataFrame()\n",
    "outlier_score[\"score\"] = x_score\n",
    "\n",
    "#threshold\n",
    "threshold2 = -1.5                                            \n",
    "filtre2 = outlier_score[\"score\"] < threshold2\n",
    "outlier_index = outlier_score[filtre2].index.tolist()"
   ]
  },
  {
   "cell_type": "code",
   "execution_count": null,
   "metadata": {
    "execution": {
     "iopub.execute_input": "2022-02-01T12:52:43.564935Z",
     "iopub.status.busy": "2022-02-01T12:52:43.564717Z",
     "iopub.status.idle": "2022-02-01T12:52:43.570063Z",
     "shell.execute_reply": "2022-02-01T12:52:43.569285Z",
     "shell.execute_reply.started": "2022-02-01T12:52:43.564909Z"
    },
    "trusted": true
   },
   "outputs": [],
   "source": [
    "len(outlier_index)"
   ]
  },
  {
   "cell_type": "code",
   "execution_count": null,
   "metadata": {
    "execution": {
     "iopub.execute_input": "2022-02-01T12:52:43.571876Z",
     "iopub.status.busy": "2022-02-01T12:52:43.571540Z",
     "iopub.status.idle": "2022-02-01T12:52:43.590737Z",
     "shell.execute_reply": "2022-02-01T12:52:43.589622Z",
     "shell.execute_reply.started": "2022-02-01T12:52:43.571838Z"
    },
    "trusted": true
   },
   "outputs": [],
   "source": [
    "df.drop(outlier_index, inplace=True)"
   ]
  },
  {
   "cell_type": "markdown",
   "metadata": {},
   "source": [
    "<a id='3'></a><br>\n",
    "# Feature Selection"
   ]
  },
  {
   "cell_type": "code",
   "execution_count": null,
   "metadata": {
    "execution": {
     "iopub.execute_input": "2022-02-01T12:52:43.592764Z",
     "iopub.status.busy": "2022-02-01T12:52:43.592090Z",
     "iopub.status.idle": "2022-02-01T12:52:44.972698Z",
     "shell.execute_reply": "2022-02-01T12:52:44.972043Z",
     "shell.execute_reply.started": "2022-02-01T12:52:43.592728Z"
    },
    "trusted": true
   },
   "outputs": [],
   "source": [
    "import seaborn as sns\n",
    "f,ax = plt.subplots(figsize=(12,8))\n",
    "sns.heatmap(df.corr(), cmap=\"PuBu\", annot=True, linewidths=0.5, fmt= '.2f',ax=ax)\n",
    "plt.show()"
   ]
  },
  {
   "cell_type": "code",
   "execution_count": null,
   "metadata": {
    "execution": {
     "iopub.execute_input": "2022-02-01T12:52:44.974074Z",
     "iopub.status.busy": "2022-02-01T12:52:44.973738Z",
     "iopub.status.idle": "2022-02-01T12:52:45.059720Z",
     "shell.execute_reply": "2022-02-01T12:52:45.059016Z",
     "shell.execute_reply.started": "2022-02-01T12:52:44.974046Z"
    },
    "trusted": true
   },
   "outputs": [],
   "source": [
    "corr = df.corr()"
   ]
  },
  {
   "cell_type": "code",
   "execution_count": null,
   "metadata": {
    "execution": {
     "iopub.execute_input": "2022-02-01T12:52:45.062936Z",
     "iopub.status.busy": "2022-02-01T12:52:45.062687Z",
     "iopub.status.idle": "2022-02-01T12:52:45.070140Z",
     "shell.execute_reply": "2022-02-01T12:52:45.069330Z",
     "shell.execute_reply.started": "2022-02-01T12:52:45.062907Z"
    },
    "trusted": true
   },
   "outputs": [],
   "source": [
    "corr[\"class\"].sort_values()"
   ]
  },
  {
   "cell_type": "code",
   "execution_count": null,
   "metadata": {
    "execution": {
     "iopub.execute_input": "2022-02-01T12:52:45.071492Z",
     "iopub.status.busy": "2022-02-01T12:52:45.071257Z",
     "iopub.status.idle": "2022-02-01T12:52:45.084571Z",
     "shell.execute_reply": "2022-02-01T12:52:45.083663Z",
     "shell.execute_reply.started": "2022-02-01T12:52:45.071456Z"
    },
    "trusted": true
   },
   "outputs": [],
   "source": [
    "df = df.drop(['obj_ID','alpha','delta','run_ID','rerun_ID','cam_col','field_ID','fiber_ID'], axis = 1)"
   ]
  },
  {
   "cell_type": "markdown",
   "metadata": {},
   "source": [
    "<a id='4'></a><br>\n",
    "# Dealing with Imbalanced Data"
   ]
  },
  {
   "cell_type": "code",
   "execution_count": null,
   "metadata": {
    "execution": {
     "iopub.execute_input": "2022-02-01T12:52:45.086237Z",
     "iopub.status.busy": "2022-02-01T12:52:45.085931Z",
     "iopub.status.idle": "2022-02-01T12:52:45.096571Z",
     "shell.execute_reply": "2022-02-01T12:52:45.095770Z",
     "shell.execute_reply.started": "2022-02-01T12:52:45.086211Z"
    },
    "trusted": true
   },
   "outputs": [],
   "source": [
    "from imblearn.over_sampling import SMOTE\n",
    "from collections import Counter"
   ]
  },
  {
   "cell_type": "code",
   "execution_count": null,
   "metadata": {
    "execution": {
     "iopub.execute_input": "2022-02-01T12:52:45.097958Z",
     "iopub.status.busy": "2022-02-01T12:52:45.097732Z",
     "iopub.status.idle": "2022-02-01T12:52:45.111387Z",
     "shell.execute_reply": "2022-02-01T12:52:45.110622Z",
     "shell.execute_reply.started": "2022-02-01T12:52:45.097932Z"
    },
    "trusted": true
   },
   "outputs": [],
   "source": [
    "x = df.drop(['class'], axis = 1)\n",
    "y = df.loc[:,'class'].values"
   ]
  },
  {
   "cell_type": "code",
   "execution_count": null,
   "metadata": {
    "execution": {
     "iopub.execute_input": "2022-02-01T12:52:45.113145Z",
     "iopub.status.busy": "2022-02-01T12:52:45.112730Z",
     "iopub.status.idle": "2022-02-01T12:52:45.400209Z",
     "shell.execute_reply": "2022-02-01T12:52:45.399339Z",
     "shell.execute_reply.started": "2022-02-01T12:52:45.113104Z"
    },
    "trusted": true
   },
   "outputs": [],
   "source": [
    "sm = SMOTE(random_state=42)\n",
    "print('Original dataset shape %s' % Counter(y))\n",
    "x, y = sm.fit_resample(x, y)\n",
    "print('Resampled dataset shape %s' % Counter(y))"
   ]
  },
  {
   "cell_type": "code",
   "execution_count": null,
   "metadata": {
    "execution": {
     "iopub.execute_input": "2022-02-01T12:52:45.401565Z",
     "iopub.status.busy": "2022-02-01T12:52:45.401358Z",
     "iopub.status.idle": "2022-02-01T12:52:45.586712Z",
     "shell.execute_reply": "2022-02-01T12:52:45.585660Z",
     "shell.execute_reply.started": "2022-02-01T12:52:45.401541Z"
    },
    "trusted": true
   },
   "outputs": [],
   "source": [
    "sns.countplot(y, palette='Set3')\n",
    "plt.title(\"Class \",fontsize=10)\n",
    "plt.show()"
   ]
  },
  {
   "cell_type": "markdown",
   "metadata": {},
   "source": [
    "<a id='5'></a><br>\n",
    "# Data Scaling"
   ]
  },
  {
   "cell_type": "code",
   "execution_count": null,
   "metadata": {
    "execution": {
     "iopub.execute_input": "2022-02-01T12:52:45.588306Z",
     "iopub.status.busy": "2022-02-01T12:52:45.588080Z",
     "iopub.status.idle": "2022-02-01T12:52:45.628365Z",
     "shell.execute_reply": "2022-02-01T12:52:45.627564Z",
     "shell.execute_reply.started": "2022-02-01T12:52:45.588278Z"
    },
    "trusted": true
   },
   "outputs": [],
   "source": [
    "from sklearn.preprocessing import StandardScaler\n",
    "scaler = StandardScaler()\n",
    "scaler.fit(x)\n",
    "x = scaler.transform(x)"
   ]
  },
  {
   "cell_type": "markdown",
   "metadata": {},
   "source": [
    "<a id='6'></a><br>\n",
    "# Import Libraries"
   ]
  },
  {
   "cell_type": "code",
   "execution_count": null,
   "metadata": {
    "execution": {
     "iopub.execute_input": "2022-02-01T12:52:45.629833Z",
     "iopub.status.busy": "2022-02-01T12:52:45.629631Z",
     "iopub.status.idle": "2022-02-01T12:52:45.634028Z",
     "shell.execute_reply": "2022-02-01T12:52:45.633382Z",
     "shell.execute_reply.started": "2022-02-01T12:52:45.629809Z"
    },
    "trusted": true
   },
   "outputs": [],
   "source": [
    "from sklearn.ensemble import RandomForestClassifier\n",
    "from sklearn import svm\n",
    "from sklearn.metrics import confusion_matrix, classification_report\n",
    "\n",
    "\n",
    "from yellowbrick.classifier import ConfusionMatrix\n",
    "from yellowbrick.classifier import ClassPredictionError\n",
    "from yellowbrick.classifier import ROCAUC\n",
    "from yellowbrick.style import set_palette"
   ]
  },
  {
   "cell_type": "markdown",
   "metadata": {},
   "source": [
    "<a id='7'></a><br>\n",
    "# Train / Test Split"
   ]
  },
  {
   "cell_type": "code",
   "execution_count": null,
   "metadata": {
    "execution": {
     "iopub.execute_input": "2022-02-01T12:52:45.635582Z",
     "iopub.status.busy": "2022-02-01T12:52:45.634944Z",
     "iopub.status.idle": "2022-02-01T12:52:45.664171Z",
     "shell.execute_reply": "2022-02-01T12:52:45.663497Z",
     "shell.execute_reply.started": "2022-02-01T12:52:45.635541Z"
    },
    "trusted": true
   },
   "outputs": [],
   "source": [
    "from sklearn.model_selection import train_test_split\n",
    "x_train, x_test, y_train, y_test = train_test_split(x, y, test_size = 0.33, random_state = 42)"
   ]
  },
  {
   "cell_type": "markdown",
   "metadata": {},
   "source": [
    "<a id='8'></a><br>\n",
    "# Classifiers"
   ]
  },
  {
   "cell_type": "markdown",
   "metadata": {},
   "source": [
    "<a id='9'></a><br>\n",
    "## SVM Classifier "
   ]
  },
  {
   "cell_type": "code",
   "execution_count": null,
   "metadata": {
    "execution": {
     "iopub.execute_input": "2022-02-01T12:52:45.665685Z",
     "iopub.status.busy": "2022-02-01T12:52:45.665121Z",
     "iopub.status.idle": "2022-02-01T12:53:58.036259Z",
     "shell.execute_reply": "2022-02-01T12:53:58.035664Z",
     "shell.execute_reply.started": "2022-02-01T12:52:45.665650Z"
    },
    "trusted": true
   },
   "outputs": [],
   "source": [
    "svm_clf = svm.SVC(kernel='rbf', C=1, random_state=0)\n",
    "svm_clf.fit(x_train,y_train)\n",
    "predicted = svm_clf.predict(x_test)\n",
    "score = svm_clf.score(x_test, y_test)\n",
    "svm_score_ = np.mean(score)\n",
    "\n",
    "print('Accuracy : %.3f' % (svm_score_))"
   ]
  },
  {
   "cell_type": "code",
   "execution_count": null,
   "metadata": {
    "execution": {
     "iopub.execute_input": "2022-02-01T12:53:58.037387Z",
     "iopub.status.busy": "2022-02-01T12:53:58.037096Z",
     "iopub.status.idle": "2022-02-01T12:53:58.040392Z",
     "shell.execute_reply": "2022-02-01T12:53:58.039867Z",
     "shell.execute_reply.started": "2022-02-01T12:53:58.037361Z"
    },
    "trusted": true
   },
   "outputs": [],
   "source": [
    "classes = ['GALAXY','STAR','QSO']"
   ]
  },
  {
   "cell_type": "markdown",
   "metadata": {},
   "source": [
    "<a id='10'></a><br>\n",
    "### Confusion Matrix"
   ]
  },
  {
   "cell_type": "code",
   "execution_count": null,
   "metadata": {
    "execution": {
     "iopub.execute_input": "2022-02-01T12:53:58.041389Z",
     "iopub.status.busy": "2022-02-01T12:53:58.041206Z",
     "iopub.status.idle": "2022-02-01T12:54:28.205466Z",
     "shell.execute_reply": "2022-02-01T12:54:28.204280Z",
     "shell.execute_reply.started": "2022-02-01T12:53:58.041365Z"
    },
    "trusted": true
   },
   "outputs": [],
   "source": [
    "svm_cm = ConfusionMatrix(svm_clf, classes=classes, cmap='GnBu')\n",
    "\n",
    "svm_cm.fit(x_train, y_train)\n",
    "svm_cm.score(x_test, y_test)\n",
    "svm_cm.show()"
   ]
  },
  {
   "cell_type": "markdown",
   "metadata": {},
   "source": [
    "<a id='11'></a><br>\n",
    "### Classification Report"
   ]
  },
  {
   "cell_type": "code",
   "execution_count": null,
   "metadata": {
    "execution": {
     "iopub.execute_input": "2022-02-01T12:54:28.207833Z",
     "iopub.status.busy": "2022-02-01T12:54:28.207438Z",
     "iopub.status.idle": "2022-02-01T12:54:28.300360Z",
     "shell.execute_reply": "2022-02-01T12:54:28.299650Z",
     "shell.execute_reply.started": "2022-02-01T12:54:28.207788Z"
    },
    "trusted": true
   },
   "outputs": [],
   "source": [
    "print(classification_report(y_test, predicted))"
   ]
  },
  {
   "cell_type": "markdown",
   "metadata": {},
   "source": [
    "<a id='12'></a><br>\n",
    "### ROC Curve"
   ]
  },
  {
   "cell_type": "code",
   "execution_count": null,
   "metadata": {
    "execution": {
     "iopub.execute_input": "2022-02-01T12:54:28.301741Z",
     "iopub.status.busy": "2022-02-01T12:54:28.301501Z",
     "iopub.status.idle": "2022-02-01T12:54:58.343295Z",
     "shell.execute_reply": "2022-02-01T12:54:58.342573Z",
     "shell.execute_reply.started": "2022-02-01T12:54:28.301711Z"
    },
    "trusted": true
   },
   "outputs": [],
   "source": [
    "visualizer = ROCAUC(svm_clf, classes=classes)\n",
    "\n",
    "set_palette('bold')\n",
    "\n",
    "visualizer.fit(x_train, y_train)        # Fit the training data to the visualizer\n",
    "visualizer.score(x_test, y_test)        # Evaluate the model on the test data\n",
    "visualizer.show()                       # Finalize and render the figure"
   ]
  },
  {
   "cell_type": "markdown",
   "metadata": {},
   "source": [
    "<a id='13'></a><br>\n",
    "### Class Prediction Error"
   ]
  },
  {
   "cell_type": "code",
   "execution_count": null,
   "metadata": {
    "execution": {
     "iopub.execute_input": "2022-02-01T12:54:58.344406Z",
     "iopub.status.busy": "2022-02-01T12:54:58.344223Z",
     "iopub.status.idle": "2022-02-01T12:55:28.483371Z",
     "shell.execute_reply": "2022-02-01T12:55:28.482579Z",
     "shell.execute_reply.started": "2022-02-01T12:54:58.344383Z"
    },
    "trusted": true
   },
   "outputs": [],
   "source": [
    "visualizer = ClassPredictionError(svm_clf, classes=classes)\n",
    "\n",
    "set_palette('pastel')\n",
    "\n",
    "visualizer.fit(x_train, y_train)        # Fit the training data to the visualizer\n",
    "visualizer.score(x_test, y_test)        # Evaluate the model on the test data\n",
    "visualizer.show()                       # Draw visualization"
   ]
  },
  {
   "cell_type": "markdown",
   "metadata": {},
   "source": [
    "<a id='14'></a><br>\n",
    "## Random Forest Classifier"
   ]
  },
  {
   "cell_type": "code",
   "execution_count": null,
   "metadata": {
    "execution": {
     "iopub.execute_input": "2022-02-01T12:55:28.485382Z",
     "iopub.status.busy": "2022-02-01T12:55:28.484624Z",
     "iopub.status.idle": "2022-02-01T12:56:05.639101Z",
     "shell.execute_reply": "2022-02-01T12:56:05.638260Z",
     "shell.execute_reply.started": "2022-02-01T12:55:28.485338Z"
    },
    "trusted": true
   },
   "outputs": [],
   "source": [
    "r_forest = RandomForestClassifier()\n",
    "r_forest.fit(x_train,y_train)\n",
    "predicted = r_forest.predict(x_test)\n",
    "score = r_forest.score(x_test, y_test)\n",
    "rf_score_ = np.mean(score)\n",
    "\n",
    "print('Accuracy : %.3f' % (rf_score_))"
   ]
  },
  {
   "cell_type": "markdown",
   "metadata": {},
   "source": [
    "<a id='15'></a><br>\n",
    "### Confusion Matrix"
   ]
  },
  {
   "cell_type": "code",
   "execution_count": null,
   "metadata": {
    "execution": {
     "iopub.execute_input": "2022-02-01T12:56:05.641091Z",
     "iopub.status.busy": "2022-02-01T12:56:05.640491Z",
     "iopub.status.idle": "2022-02-01T12:56:07.373303Z",
     "shell.execute_reply": "2022-02-01T12:56:07.372649Z",
     "shell.execute_reply.started": "2022-02-01T12:56:05.641049Z"
    },
    "trusted": true
   },
   "outputs": [],
   "source": [
    "r_forest_cm = ConfusionMatrix(r_forest, classes=classes, cmap='GnBu')\n",
    "\n",
    "r_forest_cm.fit(x_train, y_train)\n",
    "r_forest_cm.score(x_test, y_test)\n",
    "r_forest_cm.show()"
   ]
  },
  {
   "cell_type": "markdown",
   "metadata": {},
   "source": [
    "<a id='16'></a><br>\n",
    "### Classification Report"
   ]
  },
  {
   "cell_type": "code",
   "execution_count": null,
   "metadata": {
    "execution": {
     "iopub.execute_input": "2022-02-01T12:56:07.375078Z",
     "iopub.status.busy": "2022-02-01T12:56:07.374622Z",
     "iopub.status.idle": "2022-02-01T12:56:07.452948Z",
     "shell.execute_reply": "2022-02-01T12:56:07.452078Z",
     "shell.execute_reply.started": "2022-02-01T12:56:07.375026Z"
    },
    "trusted": true
   },
   "outputs": [],
   "source": [
    "print(classification_report(y_test, predicted))"
   ]
  },
  {
   "cell_type": "markdown",
   "metadata": {},
   "source": [
    "<a id='17'></a><br>\n",
    "### ROC Curve"
   ]
  },
  {
   "cell_type": "code",
   "execution_count": null,
   "metadata": {
    "execution": {
     "iopub.execute_input": "2022-02-01T12:56:07.454902Z",
     "iopub.status.busy": "2022-02-01T12:56:07.454412Z",
     "iopub.status.idle": "2022-02-01T12:56:09.150921Z",
     "shell.execute_reply": "2022-02-01T12:56:09.150144Z",
     "shell.execute_reply.started": "2022-02-01T12:56:07.454862Z"
    },
    "trusted": true
   },
   "outputs": [],
   "source": [
    "visualizer = ROCAUC(r_forest, classes=[\"GALAXY\", \"STAR\", \"QSO\"])\n",
    "\n",
    "set_palette('bold')\n",
    "\n",
    "visualizer.fit(x_train, y_train)       \n",
    "visualizer.score(x_test, y_test)        \n",
    "visualizer.show()                      "
   ]
  },
  {
   "cell_type": "markdown",
   "metadata": {},
   "source": [
    "<a id='18'></a><br>\n",
    "### Class Prediction Error"
   ]
  },
  {
   "cell_type": "code",
   "execution_count": null,
   "metadata": {
    "execution": {
     "iopub.execute_input": "2022-02-01T12:56:09.152960Z",
     "iopub.status.busy": "2022-02-01T12:56:09.152673Z",
     "iopub.status.idle": "2022-02-01T12:56:10.819290Z",
     "shell.execute_reply": "2022-02-01T12:56:10.818664Z",
     "shell.execute_reply.started": "2022-02-01T12:56:09.152922Z"
    },
    "trusted": true
   },
   "outputs": [],
   "source": [
    "visualizer = ClassPredictionError(r_forest, classes=classes)\n",
    "\n",
    "set_palette('pastel')\n",
    "\n",
    "visualizer.fit(x_train, y_train)        \n",
    "visualizer.score(x_test, y_test)        \n",
    "visualizer.show()                       "
   ]
  }
 ],
 "metadata": {
  "kernelspec": {
   "display_name": "Python 3",
   "language": "python",
   "name": "python3"
  },
  "language_info": {
   "codemirror_mode": {
    "name": "ipython",
    "version": 3
   },
   "file_extension": ".py",
   "mimetype": "text/x-python",
   "name": "python",
   "nbconvert_exporter": "python",
   "pygments_lexer": "ipython3",
   "version": "3.7.12"
  }
 },
 "nbformat": 4,
 "nbformat_minor": 4
}
